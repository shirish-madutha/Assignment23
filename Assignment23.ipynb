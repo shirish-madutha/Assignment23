{
 "cells": [
  {
   "cell_type": "code",
   "execution_count": 28,
   "id": "d273d0fa-3a87-4cc8-ad66-6254125593a8",
   "metadata": {},
   "outputs": [
    {
     "data": {
      "text/html": [
       "<div>\n",
       "<style scoped>\n",
       "    .dataframe tbody tr th:only-of-type {\n",
       "        vertical-align: middle;\n",
       "    }\n",
       "\n",
       "    .dataframe tbody tr th {\n",
       "        vertical-align: top;\n",
       "    }\n",
       "\n",
       "    .dataframe thead th {\n",
       "        text-align: right;\n",
       "    }\n",
       "</style>\n",
       "<table border=\"1\" class=\"dataframe\">\n",
       "  <thead>\n",
       "    <tr style=\"text-align: right;\">\n",
       "      <th></th>\n",
       "      <th>course_name</th>\n",
       "      <th>duration</th>\n",
       "    </tr>\n",
       "  </thead>\n",
       "  <tbody>\n",
       "    <tr>\n",
       "      <th>0</th>\n",
       "      <td>Data Science</td>\n",
       "      <td>2</td>\n",
       "    </tr>\n",
       "    <tr>\n",
       "      <th>1</th>\n",
       "      <td>Machine Learning</td>\n",
       "      <td>3</td>\n",
       "    </tr>\n",
       "    <tr>\n",
       "      <th>2</th>\n",
       "      <td>Big Data</td>\n",
       "      <td>6</td>\n",
       "    </tr>\n",
       "    <tr>\n",
       "      <th>3</th>\n",
       "      <td>Data Engineer</td>\n",
       "      <td>4</td>\n",
       "    </tr>\n",
       "  </tbody>\n",
       "</table>\n",
       "</div>"
      ],
      "text/plain": [
       "        course_name  duration\n",
       "0      Data Science         2\n",
       "1  Machine Learning         3\n",
       "2          Big Data         6\n",
       "3     Data Engineer         4"
      ]
     },
     "execution_count": 28,
     "metadata": {},
     "output_type": "execute_result"
    }
   ],
   "source": [
    "# Consider following code to answer further questions:\n",
    "\n",
    "import pandas as pd\n",
    "course_name = [\"Data Science\", \"Machine Learning\", \"Big Data\", \"Data Engineer\"]\n",
    "duration = [2,3,6,4]\n",
    "df = pd.DataFrame(data = {\"course_name\" : course_name, \"duration\" : duration})\n",
    "df"
   ]
  },
  {
   "cell_type": "code",
   "execution_count": 31,
   "id": "48068781-1563-48bc-9766-87ca7c61b021",
   "metadata": {},
   "outputs": [
    {
     "data": {
      "text/html": [
       "<div>\n",
       "<style scoped>\n",
       "    .dataframe tbody tr th:only-of-type {\n",
       "        vertical-align: middle;\n",
       "    }\n",
       "\n",
       "    .dataframe tbody tr th {\n",
       "        vertical-align: top;\n",
       "    }\n",
       "\n",
       "    .dataframe thead th {\n",
       "        text-align: right;\n",
       "    }\n",
       "</style>\n",
       "<table border=\"1\" class=\"dataframe\">\n",
       "  <thead>\n",
       "    <tr style=\"text-align: right;\">\n",
       "      <th></th>\n",
       "      <th>course_name</th>\n",
       "      <th>duration</th>\n",
       "    </tr>\n",
       "  </thead>\n",
       "  <tbody>\n",
       "    <tr>\n",
       "      <th>1</th>\n",
       "      <td>Machine Learning</td>\n",
       "      <td>3</td>\n",
       "    </tr>\n",
       "  </tbody>\n",
       "</table>\n",
       "</div>"
      ],
      "text/plain": [
       "        course_name  duration\n",
       "1  Machine Learning         3"
      ]
     },
     "execution_count": 31,
     "metadata": {},
     "output_type": "execute_result"
    }
   ],
   "source": [
    "# Q1. Write a code to print the data present in the second row of the dataframe, df.\n",
    "\n",
    "df.loc[[1], [\"course_name\",\"duration\"]]"
   ]
  },
  {
   "cell_type": "code",
   "execution_count": null,
   "id": "6240aa86-37b7-4969-b6a2-2ade49d0b8f6",
   "metadata": {},
   "outputs": [],
   "source": [
    "# Q2. What is the difference between the functions loc and iloc in pandas.DataFrame?\n",
    "\n",
    "# ans\n",
    "\"\"\" \n",
    "loc: The loc function is primarily label-based, which means it uses labels to index and \n",
    "select data. It accepts label-based indexing, meaning you can pass the row and column \n",
    "labels directly to access specific data points.\n",
    "\n",
    "iloc: The iloc function, on the other hand, is primarily integer-based, which means it \n",
    "uses integer positions to index and select data. It accepts integer-based indexing, \n",
    "where you can pass the row and column indices to access specific data points.\n",
    "\"\"\""
   ]
  },
  {
   "cell_type": "code",
   "execution_count": 43,
   "id": "04c7a0e1-ef06-42ce-90e2-1d37c0ba9ecc",
   "metadata": {},
   "outputs": [
    {
     "data": {
      "text/html": [
       "<div>\n",
       "<style scoped>\n",
       "    .dataframe tbody tr th:only-of-type {\n",
       "        vertical-align: middle;\n",
       "    }\n",
       "\n",
       "    .dataframe tbody tr th {\n",
       "        vertical-align: top;\n",
       "    }\n",
       "\n",
       "    .dataframe thead th {\n",
       "        text-align: right;\n",
       "    }\n",
       "</style>\n",
       "<table border=\"1\" class=\"dataframe\">\n",
       "  <thead>\n",
       "    <tr style=\"text-align: right;\">\n",
       "      <th></th>\n",
       "      <th>course_name</th>\n",
       "      <th>duration</th>\n",
       "    </tr>\n",
       "  </thead>\n",
       "  <tbody>\n",
       "    <tr>\n",
       "      <th>2</th>\n",
       "      <td>Big Data</td>\n",
       "      <td>6</td>\n",
       "    </tr>\n",
       "  </tbody>\n",
       "</table>\n",
       "</div>"
      ],
      "text/plain": [
       "  course_name  duration\n",
       "2    Big Data         6"
      ]
     },
     "execution_count": 43,
     "metadata": {},
     "output_type": "execute_result"
    }
   ],
   "source": [
    "\"\"\" Q3. Reindex the given dataframe using a variable, reindex = [3,0,1,2] and store it in\n",
    "the variable, new_df then find the output for both new_df.loc[2] and new_df.iloc[2]. \"\"\"\n",
    "\n",
    "# ans\n",
    "new_df=df.reindex([3,0,1,2])\n",
    "new_df.loc[[2]]"
   ]
  },
  {
   "cell_type": "code",
   "execution_count": 44,
   "id": "8a20d1f6-78a9-41f8-9a9a-cca6d416f6f3",
   "metadata": {},
   "outputs": [
    {
     "data": {
      "text/html": [
       "<div>\n",
       "<style scoped>\n",
       "    .dataframe tbody tr th:only-of-type {\n",
       "        vertical-align: middle;\n",
       "    }\n",
       "\n",
       "    .dataframe tbody tr th {\n",
       "        vertical-align: top;\n",
       "    }\n",
       "\n",
       "    .dataframe thead th {\n",
       "        text-align: right;\n",
       "    }\n",
       "</style>\n",
       "<table border=\"1\" class=\"dataframe\">\n",
       "  <thead>\n",
       "    <tr style=\"text-align: right;\">\n",
       "      <th></th>\n",
       "      <th>course_name</th>\n",
       "      <th>duration</th>\n",
       "    </tr>\n",
       "  </thead>\n",
       "  <tbody>\n",
       "    <tr>\n",
       "      <th>1</th>\n",
       "      <td>Machine Learning</td>\n",
       "      <td>3</td>\n",
       "    </tr>\n",
       "  </tbody>\n",
       "</table>\n",
       "</div>"
      ],
      "text/plain": [
       "        course_name  duration\n",
       "1  Machine Learning         3"
      ]
     },
     "execution_count": 44,
     "metadata": {},
     "output_type": "execute_result"
    }
   ],
   "source": [
    "new_df.iloc[[2]]"
   ]
  },
  {
   "cell_type": "code",
   "execution_count": null,
   "id": "3b5e157e-a20c-4255-88bd-178e53c1b24f",
   "metadata": {},
   "outputs": [],
   "source": [
    "\"\"\" Yes, I observed the difference between new_df.loc[2] and new_df.iloc[2].\n",
    "The new_df.loc[2] takes the indexes values and new_df.iloc[2] which takes the \n",
    "default indexes. \"\"\""
   ]
  },
  {
   "cell_type": "code",
   "execution_count": 46,
   "id": "4108df61-b91c-4a0e-9f80-8b80d7ef5996",
   "metadata": {},
   "outputs": [],
   "source": [
    "# Consider the below code to answer further questions:\n",
    "\n",
    "import pandas as pd\n",
    "import numpy as np\n",
    "columns = ['column_1', 'column_2', 'column_3', 'column_4', 'column_5', 'column_6']\n",
    "indices = [1,2,3,4,5,6]\n",
    "#Creating a dataframe:\n",
    "df1 = pd.DataFrame(np.random.rand(6,6), columns = columns, index = indices)"
   ]
  },
  {
   "cell_type": "code",
   "execution_count": 47,
   "id": "ebbabad3-4eee-4369-ba60-d052e7d79187",
   "metadata": {},
   "outputs": [],
   "source": [
    "# Q4. Write a code to find the following statistical measurements for the above dataframe df1:"
   ]
  },
  {
   "cell_type": "code",
   "execution_count": 51,
   "id": "5dd44fe7-0962-408a-802b-db9812273d2c",
   "metadata": {},
   "outputs": [
    {
     "data": {
      "text/plain": [
       "column_1    0.400467\n",
       "column_2    0.501953\n",
       "column_3    0.461979\n",
       "column_4    0.498165\n",
       "column_5    0.689192\n",
       "column_6    0.221139\n",
       "dtype: float64"
      ]
     },
     "execution_count": 51,
     "metadata": {},
     "output_type": "execute_result"
    }
   ],
   "source": [
    "# (i) mean of each and every column present in the dataframe.\n",
    "\n",
    "df1.mean()"
   ]
  },
  {
   "cell_type": "code",
   "execution_count": 53,
   "id": "b35c5085-7ddc-4d2f-9087-f679b88e777c",
   "metadata": {},
   "outputs": [
    {
     "data": {
      "text/plain": [
       "0.2513614683200551"
      ]
     },
     "execution_count": 53,
     "metadata": {},
     "output_type": "execute_result"
    }
   ],
   "source": [
    "# (ii) standard deviation of column, ‘column_2’\n",
    "\n",
    "df1[\"column_2\"].std()"
   ]
  },
  {
   "cell_type": "code",
   "execution_count": 66,
   "id": "13be1621-c2bb-4650-a068-336b3fd87d36",
   "metadata": {},
   "outputs": [],
   "source": [
    "\"\"\" Q5. Replace the data present in the second row of column, ‘column_2’ by a string \n",
    "variable then find the mean of column, column_2.\n",
    "If you are getting errors in executing it then explain why.\n",
    "[Hint: To replace the data use df1.loc[] and equate this to string data of your choice.] \"\"\"\n",
    "\n",
    "df1.loc[2,\"column_2\"]=\"shiry\"\n",
    "df1[\"column_2\"].mean()\n",
    "# ans\n",
    "\"\"\" It raises an error due to the float objects and string objects cannot take any\n",
    "arithmetic operations. \"\"\""
   ]
  },
  {
   "cell_type": "code",
   "execution_count": 69,
   "id": "25078c70-b818-41fb-841b-516b2ed7d396",
   "metadata": {},
   "outputs": [],
   "source": [
    "\"\"\" Q6. What do you understand about the windows function in pandas and list the types \n",
    "of windows functions? \"\"\"\n",
    "\n",
    "# ans\n",
    "\"\"\" In pandas, the window functions are used to perform calculations on a specific \"window\"\n",
    "or subset of data within a DataFrame. These functions operate on a sliding window of data\n",
    "and can be used to calculate rolling statistics, apply custom functions, and perform \n",
    "various other operations.\n",
    "\n",
    "Window functions in pandas are typically applied using the rolling or expanding methods,\n",
    "which create a window object on which various calculations can be performed. \n",
    "The main types of window functions in pandas are:\n",
    "\n",
    "Rolling Window Functions:\n",
    "\n",
    "rolling(): This function creates a rolling window object that allows you to calculate \n",
    "statistics over a specified window size. It can be used to calculate rolling mean, \n",
    "rolling sum, rolling standard deviation, and other rolling statistics.\n",
    "\n",
    "rolling().apply(): This method allows you to apply a custom function to a rolling window.\n",
    "You can define your own function and apply it to the rolling window object to perform \n",
    "calculations on the window.\n",
    "\n",
    "rolling().agg(): This method allows you to apply multiple aggregation functions to a \n",
    "rolling window. You can pass a list of functions (such as mean, sum, std) and calculate \n",
    "multiple statistics simultaneously.\n",
    "\n",
    "Expanding Window Functions:\n",
    "\n",
    "expanding(): This function creates an expanding window object that expands the window\n",
    "size over time, including all the previous rows. It can be used to calculate expanding \n",
    "sum, expanding mean, and other expanding statistics.\n",
    "\n",
    "expanding().apply(): This method allows you to apply a custom function to an expanding\n",
    "window. Similar to the rolling window, you can define your own function and apply it to\n",
    "the expanding window object.\n",
    "\n",
    "expanding().agg(): This method allows you to apply multiple aggregation functions to an\n",
    "expanding window. You can pass a list of functions and calculate multiple statistics over\n",
    "the expanding window. \"\"\""
   ]
  },
  {
   "cell_type": "code",
   "execution_count": 76,
   "id": "5ff4b9ea-752a-46d0-9cdf-c643458ffecb",
   "metadata": {},
   "outputs": [
    {
     "name": "stdout",
     "output_type": "stream",
     "text": [
      "Current month: 6\n",
      "Current year: 2023\n"
     ]
    },
    {
     "name": "stderr",
     "output_type": "stream",
     "text": [
      "/tmp/ipykernel_174/121854747.py:7: FutureWarning: The pandas.datetime class is deprecated and will be removed from pandas in a future version. Import from datetime module instead.\n",
      "  current_date = pd.datetime.now()\n"
     ]
    }
   ],
   "source": [
    "\"\"\" Q7. Write a code to print only the current month and year at the time of answering \n",
    "this question.\n",
    "[Hint: Use pandas.datetime function] \"\"\"\n",
    "\n",
    "import pandas as pd\n",
    "\n",
    "current_date = pd.datetime.now()\n",
    "current_month = current_date.month\n",
    "current_year = current_date.year\n",
    "\n",
    "print(f\"Current month: {current_month}\")\n",
    "print(f\"Current year: {current_year}\")"
   ]
  },
  {
   "cell_type": "code",
   "execution_count": 77,
   "id": "e6e503f8-27fd-4c8a-98cc-64b4c1f7fc19",
   "metadata": {},
   "outputs": [
    {
     "name": "stdin",
     "output_type": "stream",
     "text": [
      "Enter the first date (YYYY-MM-DD):  2023-05-31\n",
      "Enter the second date (YYYY-MM-DD):  2023-06-03\n"
     ]
    },
    {
     "name": "stdout",
     "output_type": "stream",
     "text": [
      "Difference: 3 days, 0 hours, 0 minutes\n"
     ]
    }
   ],
   "source": [
    "\"\"\" Q8. Write a Python program that takes in two dates as input (in the format YYYY-MM-DD)\n",
    "and calculates the difference between them in days, hours, and minutes using Pandas time delta.\n",
    "The program should prompt the user to enter the dates and display the result. \"\"\"\n",
    "\n",
    "import pandas as pd\n",
    "\n",
    "# Prompt the user to enter the dates\n",
    "date1 = input(\"Enter the first date (YYYY-MM-DD): \")\n",
    "date2 = input(\"Enter the second date (YYYY-MM-DD): \")\n",
    "\n",
    "# Convert the input strings to pandas datetime objects\n",
    "date1 = pd.to_datetime(date1)\n",
    "date2 = pd.to_datetime(date2)\n",
    "\n",
    "# Calculate the timedelta between the two dates\n",
    "timedelta = date2 - date1\n",
    "\n",
    "# Extract the days, hours, and minutes from the timedelta\n",
    "days = timedelta.days\n",
    "hours = timedelta.seconds // 3600\n",
    "minutes = (timedelta.seconds % 3600) // 60\n",
    "\n",
    "# Display the result\n",
    "print(f\"Difference: {days} days, {hours} hours, {minutes} minutes\")"
   ]
  },
  {
   "cell_type": "code",
   "execution_count": 79,
   "id": "88b0fa55-2e58-46d0-8575-2c2c442415b1",
   "metadata": {},
   "outputs": [
    {
     "name": "stdin",
     "output_type": "stream",
     "text": [
      "Enter the CSV file path:  data.csv\n",
      "Enter the column name:  Duration\n",
      "Enter the category order (comma-separated):  Pulse\n"
     ]
    },
    {
     "name": "stdout",
     "output_type": "stream",
     "text": [
      "    Duration  Pulse  Maxpulse  Calories\n",
      "0        NaN    110       130     409.1\n",
      "1        NaN    117       145     479.0\n",
      "2        NaN    103       135     340.0\n",
      "3        NaN    109       175     282.4\n",
      "4        NaN    117       148     406.0\n",
      "..       ...    ...       ...       ...\n",
      "164      NaN    105       140     290.8\n",
      "165      NaN    110       145     300.0\n",
      "166      NaN    115       145     310.2\n",
      "167      NaN    120       150     320.4\n",
      "168      NaN    125       150     330.4\n",
      "\n",
      "[169 rows x 4 columns]\n"
     ]
    }
   ],
   "source": [
    "\"\"\" Q9. Write a Python program that reads a CSV file containing categorical data and \n",
    "converts a specified column to a categorical data type. The program should prompt the \n",
    "user to enter the file path, column name, and category order, and then display the\n",
    "sorted data. \"\"\"\n",
    "\n",
    "import pandas as pd\n",
    "\n",
    "# Prompt the user for file path, column name, and category order\n",
    "file_path = input(\"Enter the CSV file path: \")\n",
    "column_name = input(\"Enter the column name: \")\n",
    "category_order = input(\"Enter the category order (comma-separated): \")\n",
    "\n",
    "# Read the CSV file\n",
    "data = pd.read_csv(file_path)\n",
    "\n",
    "# Convert the specified column to categorical with user-defined category order\n",
    "categories = [cat.strip() for cat in category_order.split(\",\")]\n",
    "data[column_name] = pd.Categorical(data[column_name], categories=categories, ordered=True)\n",
    "\n",
    "# Sort the data by the specified column\n",
    "sorted_data = data.sort_values(column_name)\n",
    "\n",
    "# Display the sorted data\n",
    "print(sorted_data)\n"
   ]
  }
 ],
 "metadata": {
  "kernelspec": {
   "display_name": "Python 3 (ipykernel)",
   "language": "python",
   "name": "python3"
  },
  "language_info": {
   "codemirror_mode": {
    "name": "ipython",
    "version": 3
   },
   "file_extension": ".py",
   "mimetype": "text/x-python",
   "name": "python",
   "nbconvert_exporter": "python",
   "pygments_lexer": "ipython3",
   "version": "3.10.8"
  }
 },
 "nbformat": 4,
 "nbformat_minor": 5
}
